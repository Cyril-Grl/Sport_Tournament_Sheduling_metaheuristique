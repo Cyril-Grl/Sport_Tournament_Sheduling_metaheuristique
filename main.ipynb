{
 "cells": [
  {
   "cell_type": "markdown",
   "metadata": {},
   "source": [
    "# Problème 1 : Planification de rencontres sportives\n",
    "\n",
    "(http://www.csplib.org/ => Scheduling => prob026: round robin tournaments)\n",
    "\n",
    "## Description du problème\n",
    "\n",
    "Nous considérons les spécifications suivantes :\n",
    "\n",
    "- un tournoi regroupe un ensemble T d'équipes (|T| pair)\n",
    "- chaque équipe rencontre toutes les autres exactement une fois. La notion de matches aller/retour n'est pas traité dans ce problème\n",
    "- le tournoi se déroule sur |T|-1 semaines. Chaque équipe joue une et une seule fois chaque semaine\n",
    "- la programmation d'une rencontre se déroule sur un terrain, à une certaine date. Nous emploierons le terme générique de période, au nombre de |T|/2. A chaque période de chaque semaine correspond un match.\n",
    "- Aucune équipe ne peut jouer plus de deux fois sur une période.\n",
    "\n",
    "\n",
    "Le problème est de déterminer une programmation qui respecte l'ensemble de ces contraintes.\n",
    "\n",
    "Le Tableau 1 montre un exemple de planification vérifiant l'ensemble des contraintes pour |T|=8 équipes numérotées de 0 à 7 (il y a donc 7 semaines et 4 périodes).\n",
    "\n",
    "\n",
    "|           | Période 0 | Période 1 | Période 2 | Période 3 |\n",
    "|-----------|-----------|-----------|-----------|-----------|\n",
    "| Semaine 0 | 0 vs 1    | 2 vs 3    | 4 vs 5    | 6 vs 7    |\n",
    "| Semaine 1 | 0 vs 2    | 1 vs 7    | 3 vs 5    | 4 vs 6    |\n",
    "| Semaine 2 | 4 vs 7    | 0 vs 3    | 1 vs 6    | 2 vs 5    |\n",
    "| Semaine 3 | 3 vs 6    | 5 vs 7    | 0 vs 4    | 1 vs 2    |\n",
    "| Semaine 4 | 3 vs 7    | 1 vs 4    | 2 vs 6    | 0 vs 5    |\n",
    "| Semaine 5 | 1 vs 5    | 0 vs 6    | 2 vs 7    | 3 vs 4    |\n",
    "| Semaine 6 | 2 vs 4    | 5 vs 6    | 0 vs 7    | 1 vs 3    |\n",
    "\n",
    "Tableau 1 - Exemple de planification pour 8 équipes.\n",
    "\n",
    "Comme dans le tableau précédent, une configuration peut être représentée sous la forme d'un tableau à deux dimensions avec les semaines en lignes et les périodes en colonnes.\n",
    "\n",
    "Chaque colonne vérifie la contrainte de cardinalité pour laquelle aucune équipe n'apparaît plus de deux fois. Sur chaque ligne chaque équipe apparaît exactement une fois. Ce qui est équivalent à dire que toutes les équipes d'une ligne sont différentes. Enfin, il existe une contrainte globale sur tout le tableau : chaque match n'y apparaît qu'une seule fois, i.e. tous les matches sont différents.\n",
    "\n",
    "Planifier les tournois entre T équipes (T pair) sur T-1 semaines, chaque semaine étant\n",
    "découpée en T/2 périodes avec les contraintes suivantes :\n",
    "- unicité / semaine : chaque équipe joue exactement 1 fois / semaine,\n",
    "- double / période : aucune équipe ne peut jouer plus de 2 fois / période,\n",
    "- tournoi simple : chaque équipe joue contre toutes les autres exactement une fois.\n",
    "Remarque: problème se résout en temps linéaire si (T -1) MOD 3=0 (T=10, 16, 22, 28, 34, 40, 46)\n",
    "problème encore ouvert dans le cas général (T=12, 14, 18, 20, 24, 26, 30, 32, 36, 38, 42, 44...)"
   ]
  },
  {
   "cell_type": "markdown",
   "metadata": {},
   "source": [
    "# Représentation du problème \n",
    "\n",
    "## Equipes, rencontres(/matchs), semaines, périodes \n",
    "\n",
    "Pour placer les `n` équipes (`n` étant pair) dans les `r` rencontres (`r= n/2 * (n-1)`) nous utiliseront une matrice de taille `s*p` ou `s` représente le nombre de semaines (`s = n -1`) et `p` le nombre de périodes."
   ]
  },
  {
   "cell_type": "markdown",
   "metadata": {
    "ExecuteTime": {
     "end_time": "2019-10-16T14:04:12.962799Z",
     "start_time": "2019-10-16T14:04:12.925Z"
    }
   },
   "source": [
    "## Contraintes\n",
    "\n",
    "Rappel des contraintes :\n",
    "- unicité / semaine : chaque équipe joue exactement 1 fois par semaine,\n",
    "- double / période : aucune équipe ne peut jouer plus de 2 fois par période,\n",
    "- tournoi simple : chaque équipe joue contre toutes les autres exactement une fois.\n",
    "\n",
    "### Contrainte sur les matchs\n",
    "\n",
    "La contrainte sur les matchs est implicitement résolue en générant toutes les rencontres possibles et en les utilisant toutes.\n",
    "\n",
    "### Contrainte sur les semaines\n",
    "\n",
    "Pour gérer cette contrainte nous placerons tous les matchs générés sur le planning sans se préoccuper de la contrainte sur les périodes.\n",
    "\n",
    "La fonction `semaine_ok(semaine, n)` renverra -1 si il y a une incohérence dans la semaine donnée(deux fois la même équipe), 0 si il n'y a pas d'incohérence mais que toutes les équipes ne sont pas utilisés (si la semaine n'est pas encore totalement plannifiée) et 1 la semaine est valide.\n",
    "\n",
    "### Contrainte sur  les périodes\n",
    "\n",
    "L'algorithme implémenté sera chargé de résoudre la contrainte sur les périodes.\n",
    "\n",
    "Pour vérifier la validité d'une période nous utiliserons la fonction `periode_ok(periode, n)` qui renvoie le nombre d'incohérences vis à vis de la contrainte sur les périodes."
   ]
  },
  {
   "cell_type": "markdown",
   "metadata": {},
   "source": [
    "# Recherche de solutions"
   ]
  },
  {
   "cell_type": "code",
   "execution_count": 1,
   "metadata": {
    "ExecuteTime": {
     "end_time": "2020-02-07T08:48:35.061566Z",
     "start_time": "2020-02-07T08:34:33.370060Z"
    },
    "pycharm": {
     "is_executing": false
    },
    "scrolled": false
   },
   "outputs": [
    {
     "name": "stdout",
     "text": [
      "Population parameters :\n",
      "\tIndividuals : <class 'src.individu_sts.IndividualSTS'>\n",
      "\tSize of an individual : 15\n",
      "\tSize of the population : 100\n",
      "\tnb turn max : 5000\n",
      "\tNumber of individuals selected each turns : 20\n",
      "\tSelection : ['select_tournament']\n",
      "\tCrossover : ['pmx'] (100%)\n",
      "\tMutation : ['individual'] (40.0%)\n",
      "\tInsertion : age\n",
      "turn 0 max -11 diversity 100\n",
      "swap\n",
      "swap\n",
      "swap\n",
      "insert\n",
      "insert\n",
      "swap\n",
      "swap\n",
      "swap\n",
      "turn 1 max -11 diversity 100\n",
      "insert\n",
      "swap\n",
      "swap\n",
      "insert\n",
      "swap\n",
      "swap\n",
      "insert\n",
      "insert\n",
      "turn 2 max -11 diversity 100\n",
      "insert\n",
      "local_search\n",
      "swap\n",
      "swap\n",
      "insert\n"
     ],
     "output_type": "stream"
    },
    {
     "data": {
      "text/plain": "<Figure size 576x576 with 1 Axes>",
      "image/png": "[encoded data removed]"
     },
     "metadata": {},
     "output_type": "display_data"
    }
   ],
   "source": [
    "from pprint import pprint\n",
    "from algo_gen.classes import Population\n",
    "# from algo_gen.tools.plot import show_stats\n",
    "import random\n",
    "from src.individu_sts import IndividualSTS\n",
    "from src.outils import *\n",
    "n = 6\n",
    "n, s, p, r = conditions(n)\n",
    "# affiche_conditions(n, s, p, r)\n",
    "\n",
    "def final_condition(pop):\n",
    "    if pop.stats['max_fitness'][-1] == 0:\n",
    "        return False\n",
    "    else:\n",
    "        return not (pop.nb_turns == pop.parameters['nb turn max'])\n",
    "\n",
    "def each_turn(pop):\n",
    "    print(f'turn {pop.nb_turns} max {pop.stats[\"max_fitness\"][-1]} diversity {pop.stats[\"diversity\"][-1]}')\n",
    "    if pop.stats[\"diversity\"][-1] < int(pop.parameters[\"population size\"] * 0.4):\n",
    "        diff_indiv = set([i for i,_,_ in pop.individuals])\n",
    "        print(f'nb_diff indiv : {len(diff_indiv)}')\n",
    "        pop.individuals = []\n",
    "        for indiv in diff_indiv:\n",
    "            pop.individuals.append((indiv, indiv.fitness(), 0))\n",
    "        for i in range(len(diff_indiv), pop.parameters[\"population size\"]):\n",
    "            new_indiv = IndividualSTS(pop.parameters)\n",
    "            pop.individuals.append((new_indiv, new_indiv.fitness(), 0))\n",
    "#         for i, ifa in enumerate(pop.individuals):\n",
    "#             indiv, _, _ = ifa\n",
    "#             if indiv in diff_indiv:\n",
    "#                 diff_indiv.remove(indiv)\n",
    "#                 random.shuffle(indiv.sequence)\n",
    "#                 pop.individuals[i] = (indiv, indiv.fitness(), 0)\n",
    "        \n",
    "#         first = pop.individuals[0:]\n",
    "#         for i, ifa in enumerate(pop.individuals[1:]):\n",
    "#             indiv, _, _ = ifa\n",
    "#             if indiv == first:\n",
    "#                 print('randomize')\n",
    "#                 random.shuffle(indiv.sequence)\n",
    "#                 pop.individuals[i] = (indiv, indiv.fitness(), 0)\n",
    "\n",
    "parametres = {\n",
    "    'individual': IndividualSTS,\n",
    "    'only weeks': False,\n",
    "    'number of team': n,\n",
    "\n",
    "    'population size': 100,\n",
    "    'chromosome size': s * p,\n",
    "\n",
    "    'termination_condition': final_condition,\n",
    "    'function_each_turn': each_turn,\n",
    "    'nb turn max': 5000,\n",
    "\n",
    "    'selection': ['select_tournament'],\n",
    "    'proportion selection': 20,\n",
    "\n",
    "    'crossover': ['pmx'],\n",
    "    'proportion crossover': 1,\n",
    "\n",
    "    'mutation': ['individual'],\n",
    "    'proportion mutation': 0.4,\n",
    "\n",
    "    'insertion': 'age',\n",
    "}\n",
    "population = Population(parametres, description=True)\n",
    "population.start()\n",
    "\n",
    "show_stats(population.stats)"
   ]
  },
  {
   "cell_type": "code",
   "execution_count": 2,
   "metadata": {
    "ExecuteTime": {
     "end_time": "2020-02-07T08:48:35.069278Z",
     "start_time": "2020-02-07T08:34:33.370Z"
    },
    "pycharm": {
     "is_executing": false
    }
   },
   "outputs": [
    {
     "data": {
      "text/plain": "[[(0, 1), (2, 4), (3, 5)],\n [(1, 2), (0, 3), (4, 5)],\n [(3, 4), (1, 5), (0, 2)],\n [(0, 5), (2, 3), (1, 4)],\n [(2, 5), (0, 4), (1, 3)]] 0"
     },
     "metadata": {},
     "output_type": "execute_result",
     "execution_count": 2
    }
   ],
   "source": [
    "best = population.individuals[0][0]\n",
    "best"
   ]
  },
  {
   "cell_type": "code",
   "execution_count": null,
   "metadata": {
    "ExecuteTime": {
     "end_time": "2020-02-07T08:48:35.070036Z",
     "start_time": "2020-02-07T08:34:33.372Z"
    },
    "pycharm": {
     "is_executing": false
    }
   },
   "outputs": [],
   "source": [
    "# if best.fitness() == 0:\n",
    "#     m = r_to_m(best.sequence,s,p)\n",
    "#     pprint(m)\n",
    "#     pprint(matrice_incoherences_semaine(m,n))\n",
    "#     pprint(matrice_incoherences_periode(transpose(m),n))\n",
    "#     from src.recherche_locale import recherche_locale\n",
    "#     m_t = transpose(m)\n",
    "#     m_t, t, nb_inco_p = recherche_locale(m_t, n, matrice_incoherences_periode, nombre_incoherences_periodes, voisins_colonne,200)"
   ]
  },
  {
   "cell_type": "code",
   "execution_count": null,
   "metadata": {
    "ExecuteTime": {
     "end_time": "2020-02-07T08:48:35.071067Z",
     "start_time": "2020-02-07T08:34:33.374Z"
    },
    "pycharm": {
     "is_executing": false
    }
   },
   "outputs": [],
   "source": [
    "# pprint(matrice_incoherences_periode(m_t,n))"
   ]
  },
  {
   "cell_type": "code",
   "execution_count": null,
   "metadata": {
    "pycharm": {
     "is_executing": false
    }
   },
   "outputs": [],
   "source": []
  }
 ],
 "metadata": {
  "kernelspec": {
   "display_name": "Python 3",
   "language": "python",
   "name": "python3"
  },
  "language_info": {
   "codemirror_mode": {
    "name": "ipython",
    "version": 3
   },
   "file_extension": ".py",
   "mimetype": "text/x-python",
   "name": "python",
   "nbconvert_exporter": "python",
   "pygments_lexer": "ipython3",
   "version": "3.6.9"
  },
  "pycharm": {
   "stem_cell": {
    "cell_type": "raw",
    "source": [],
    "metadata": {
     "collapsed": false
    }
   }
  },
  "toc": {
   "base_numbering": 1,
   "nav_menu": {},
   "number_sections": true,
   "sideBar": true,
   "skip_h1_title": false,
   "title_cell": "Table of Contents",
   "title_sidebar": "Contents",
   "toc_cell": false,
   "toc_position": {},
   "toc_section_display": true,
   "toc_window_display": false
  },
  "varInspector": {
   "cols": {
    "lenName": 16,
    "lenType": 16,
    "lenVar": 40
   },
   "kernels_config": {
    "python": {
     "delete_cmd_postfix": "",
     "delete_cmd_prefix": "del ",
     "library": "var_list.py",
     "varRefreshCmd": "print(var_dic_list())"
    },
    "r": {
     "delete_cmd_postfix": ") ",
     "delete_cmd_prefix": "rm(",
     "library": "var_list.r",
     "varRefreshCmd": "cat(var_dic_list()) "
    }
   },
   "position": {
    "height": "469.85px",
    "left": "1507px",
    "right": "20px",
    "top": "113px",
    "width": "360px"
   },
   "types_to_exclude": [
    "module",
    "function",
    "builtin_function_or_method",
    "instance",
    "_Feature"
   ],
   "window_display": true
  }
 },
 "nbformat": 4,
 "nbformat_minor": 2
}